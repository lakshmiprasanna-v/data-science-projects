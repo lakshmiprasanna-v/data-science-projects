{
  "nbformat": 4,
  "nbformat_minor": 0,
  "metadata": {
    "colab": {
      "provenance": []
    },
    "kernelspec": {
      "name": "python3",
      "display_name": "Python 3"
    },
    "language_info": {
      "name": "python"
    }
  },
  "cells": [
    {
      "cell_type": "code",
      "execution_count": 2,
      "metadata": {
        "id": "Psmoo0AUHbDs"
      },
      "outputs": [],
      "source": [
        "import pandas as pd\n",
        "import numpy as np\n",
        "import matplotlib.pyplot as plt\n",
        "import seaborn as sns"
      ]
    },
    {
      "cell_type": "code",
      "source": [
        "url = '/content/AmazonBooks - Sheet1.csv'\n",
        "df = pd.read_csv(url)\n",
        "df"
      ],
      "metadata": {
        "colab": {
          "base_uri": "https://localhost:8080/",
          "height": 423
        },
        "id": "L-Sdb1B376rU",
        "outputId": "253ab899-adec-40c4-c352-f5c811b4b518"
      },
      "execution_count": 3,
      "outputs": [
        {
          "output_type": "execute_result",
          "data": {
            "text/plain": [
              "                                                  Name  \\\n",
              "0                        10-Day Green Smoothie Cleanse   \n",
              "1                                    11/22/63: A Novel   \n",
              "2              12 Rules for Life: An Antidote to Chaos   \n",
              "3                               1984 (Signet Classics)   \n",
              "4    5,000 Awesome Facts (About Everything!) (Natio...   \n",
              "..                                                 ...   \n",
              "595  Live Free Or Die: America (and the World) on t...   \n",
              "596                                 Burn After Writing   \n",
              "597  Get Out of Your Head: Stopping the Spiral of T...   \n",
              "598  Human Body Activity Book for Kids: Hands-On Fu...   \n",
              "599                                 Educated: A Memoir   \n",
              "\n",
              "                       Author  User Rating  Reviews  Price  Year        Genre  \n",
              "0                    JJ Smith          4.7    17350      8  2016  Non Fiction  \n",
              "1                Stephen King          4.6     2052     22  2011      Fiction  \n",
              "2          Jordan B. Peterson          4.7    18979     15  2018  Non Fiction  \n",
              "3               George Orwell          4.7    21424      6  2017      Fiction  \n",
              "4    National Geographic Kids          4.8     7665     12  2019  Non Fiction  \n",
              "..                        ...          ...      ...    ...   ...          ...  \n",
              "595              Sean Hannity          4.8    20153     15  2020  Non Fiction  \n",
              "596              Sharon Jones          4.6    26423      8  2020  Non Fiction  \n",
              "597              Jennie Allen          4.7    12879     14  2020  Non Fiction  \n",
              "598              Katie Stokes          4.7    14128      5  2020  Non Fiction  \n",
              "599            Tara Westover           4.7    45351     11  2020  Non Fiction  \n",
              "\n",
              "[600 rows x 7 columns]"
            ],
            "text/html": [
              "\n",
              "  <div id=\"df-b7c1c112-9ec5-4e48-8188-eda839a5bc0b\" class=\"colab-df-container\">\n",
              "    <div>\n",
              "<style scoped>\n",
              "    .dataframe tbody tr th:only-of-type {\n",
              "        vertical-align: middle;\n",
              "    }\n",
              "\n",
              "    .dataframe tbody tr th {\n",
              "        vertical-align: top;\n",
              "    }\n",
              "\n",
              "    .dataframe thead th {\n",
              "        text-align: right;\n",
              "    }\n",
              "</style>\n",
              "<table border=\"1\" class=\"dataframe\">\n",
              "  <thead>\n",
              "    <tr style=\"text-align: right;\">\n",
              "      <th></th>\n",
              "      <th>Name</th>\n",
              "      <th>Author</th>\n",
              "      <th>User Rating</th>\n",
              "      <th>Reviews</th>\n",
              "      <th>Price</th>\n",
              "      <th>Year</th>\n",
              "      <th>Genre</th>\n",
              "    </tr>\n",
              "  </thead>\n",
              "  <tbody>\n",
              "    <tr>\n",
              "      <th>0</th>\n",
              "      <td>10-Day Green Smoothie Cleanse</td>\n",
              "      <td>JJ Smith</td>\n",
              "      <td>4.7</td>\n",
              "      <td>17350</td>\n",
              "      <td>8</td>\n",
              "      <td>2016</td>\n",
              "      <td>Non Fiction</td>\n",
              "    </tr>\n",
              "    <tr>\n",
              "      <th>1</th>\n",
              "      <td>11/22/63: A Novel</td>\n",
              "      <td>Stephen King</td>\n",
              "      <td>4.6</td>\n",
              "      <td>2052</td>\n",
              "      <td>22</td>\n",
              "      <td>2011</td>\n",
              "      <td>Fiction</td>\n",
              "    </tr>\n",
              "    <tr>\n",
              "      <th>2</th>\n",
              "      <td>12 Rules for Life: An Antidote to Chaos</td>\n",
              "      <td>Jordan B. Peterson</td>\n",
              "      <td>4.7</td>\n",
              "      <td>18979</td>\n",
              "      <td>15</td>\n",
              "      <td>2018</td>\n",
              "      <td>Non Fiction</td>\n",
              "    </tr>\n",
              "    <tr>\n",
              "      <th>3</th>\n",
              "      <td>1984 (Signet Classics)</td>\n",
              "      <td>George Orwell</td>\n",
              "      <td>4.7</td>\n",
              "      <td>21424</td>\n",
              "      <td>6</td>\n",
              "      <td>2017</td>\n",
              "      <td>Fiction</td>\n",
              "    </tr>\n",
              "    <tr>\n",
              "      <th>4</th>\n",
              "      <td>5,000 Awesome Facts (About Everything!) (Natio...</td>\n",
              "      <td>National Geographic Kids</td>\n",
              "      <td>4.8</td>\n",
              "      <td>7665</td>\n",
              "      <td>12</td>\n",
              "      <td>2019</td>\n",
              "      <td>Non Fiction</td>\n",
              "    </tr>\n",
              "    <tr>\n",
              "      <th>...</th>\n",
              "      <td>...</td>\n",
              "      <td>...</td>\n",
              "      <td>...</td>\n",
              "      <td>...</td>\n",
              "      <td>...</td>\n",
              "      <td>...</td>\n",
              "      <td>...</td>\n",
              "    </tr>\n",
              "    <tr>\n",
              "      <th>595</th>\n",
              "      <td>Live Free Or Die: America (and the World) on t...</td>\n",
              "      <td>Sean Hannity</td>\n",
              "      <td>4.8</td>\n",
              "      <td>20153</td>\n",
              "      <td>15</td>\n",
              "      <td>2020</td>\n",
              "      <td>Non Fiction</td>\n",
              "    </tr>\n",
              "    <tr>\n",
              "      <th>596</th>\n",
              "      <td>Burn After Writing</td>\n",
              "      <td>Sharon Jones</td>\n",
              "      <td>4.6</td>\n",
              "      <td>26423</td>\n",
              "      <td>8</td>\n",
              "      <td>2020</td>\n",
              "      <td>Non Fiction</td>\n",
              "    </tr>\n",
              "    <tr>\n",
              "      <th>597</th>\n",
              "      <td>Get Out of Your Head: Stopping the Spiral of T...</td>\n",
              "      <td>Jennie Allen</td>\n",
              "      <td>4.7</td>\n",
              "      <td>12879</td>\n",
              "      <td>14</td>\n",
              "      <td>2020</td>\n",
              "      <td>Non Fiction</td>\n",
              "    </tr>\n",
              "    <tr>\n",
              "      <th>598</th>\n",
              "      <td>Human Body Activity Book for Kids: Hands-On Fu...</td>\n",
              "      <td>Katie Stokes</td>\n",
              "      <td>4.7</td>\n",
              "      <td>14128</td>\n",
              "      <td>5</td>\n",
              "      <td>2020</td>\n",
              "      <td>Non Fiction</td>\n",
              "    </tr>\n",
              "    <tr>\n",
              "      <th>599</th>\n",
              "      <td>Educated: A Memoir</td>\n",
              "      <td>Tara Westover</td>\n",
              "      <td>4.7</td>\n",
              "      <td>45351</td>\n",
              "      <td>11</td>\n",
              "      <td>2020</td>\n",
              "      <td>Non Fiction</td>\n",
              "    </tr>\n",
              "  </tbody>\n",
              "</table>\n",
              "<p>600 rows × 7 columns</p>\n",
              "</div>\n",
              "    <div class=\"colab-df-buttons\">\n",
              "\n",
              "  <div class=\"colab-df-container\">\n",
              "    <button class=\"colab-df-convert\" onclick=\"convertToInteractive('df-b7c1c112-9ec5-4e48-8188-eda839a5bc0b')\"\n",
              "            title=\"Convert this dataframe to an interactive table.\"\n",
              "            style=\"display:none;\">\n",
              "\n",
              "  <svg xmlns=\"http://www.w3.org/2000/svg\" height=\"24px\" viewBox=\"0 -960 960 960\">\n",
              "    <path d=\"M120-120v-720h720v720H120Zm60-500h600v-160H180v160Zm220 220h160v-160H400v160Zm0 220h160v-160H400v160ZM180-400h160v-160H180v160Zm440 0h160v-160H620v160ZM180-180h160v-160H180v160Zm440 0h160v-160H620v160Z\"/>\n",
              "  </svg>\n",
              "    </button>\n",
              "\n",
              "  <style>\n",
              "    .colab-df-container {\n",
              "      display:flex;\n",
              "      gap: 12px;\n",
              "    }\n",
              "\n",
              "    .colab-df-convert {\n",
              "      background-color: #E8F0FE;\n",
              "      border: none;\n",
              "      border-radius: 50%;\n",
              "      cursor: pointer;\n",
              "      display: none;\n",
              "      fill: #1967D2;\n",
              "      height: 32px;\n",
              "      padding: 0 0 0 0;\n",
              "      width: 32px;\n",
              "    }\n",
              "\n",
              "    .colab-df-convert:hover {\n",
              "      background-color: #E2EBFA;\n",
              "      box-shadow: 0px 1px 2px rgba(60, 64, 67, 0.3), 0px 1px 3px 1px rgba(60, 64, 67, 0.15);\n",
              "      fill: #174EA6;\n",
              "    }\n",
              "\n",
              "    .colab-df-buttons div {\n",
              "      margin-bottom: 4px;\n",
              "    }\n",
              "\n",
              "    [theme=dark] .colab-df-convert {\n",
              "      background-color: #3B4455;\n",
              "      fill: #D2E3FC;\n",
              "    }\n",
              "\n",
              "    [theme=dark] .colab-df-convert:hover {\n",
              "      background-color: #434B5C;\n",
              "      box-shadow: 0px 1px 3px 1px rgba(0, 0, 0, 0.15);\n",
              "      filter: drop-shadow(0px 1px 2px rgba(0, 0, 0, 0.3));\n",
              "      fill: #FFFFFF;\n",
              "    }\n",
              "  </style>\n",
              "\n",
              "    <script>\n",
              "      const buttonEl =\n",
              "        document.querySelector('#df-b7c1c112-9ec5-4e48-8188-eda839a5bc0b button.colab-df-convert');\n",
              "      buttonEl.style.display =\n",
              "        google.colab.kernel.accessAllowed ? 'block' : 'none';\n",
              "\n",
              "      async function convertToInteractive(key) {\n",
              "        const element = document.querySelector('#df-b7c1c112-9ec5-4e48-8188-eda839a5bc0b');\n",
              "        const dataTable =\n",
              "          await google.colab.kernel.invokeFunction('convertToInteractive',\n",
              "                                                    [key], {});\n",
              "        if (!dataTable) return;\n",
              "\n",
              "        const docLinkHtml = 'Like what you see? Visit the ' +\n",
              "          '<a target=\"_blank\" href=https://colab.research.google.com/notebooks/data_table.ipynb>data table notebook</a>'\n",
              "          + ' to learn more about interactive tables.';\n",
              "        element.innerHTML = '';\n",
              "        dataTable['output_type'] = 'display_data';\n",
              "        await google.colab.output.renderOutput(dataTable, element);\n",
              "        const docLink = document.createElement('div');\n",
              "        docLink.innerHTML = docLinkHtml;\n",
              "        element.appendChild(docLink);\n",
              "      }\n",
              "    </script>\n",
              "  </div>\n",
              "\n",
              "\n",
              "<div id=\"df-fea96197-b0cd-429f-81db-a89667beaa9d\">\n",
              "  <button class=\"colab-df-quickchart\" onclick=\"quickchart('df-fea96197-b0cd-429f-81db-a89667beaa9d')\"\n",
              "            title=\"Suggest charts\"\n",
              "            style=\"display:none;\">\n",
              "\n",
              "<svg xmlns=\"http://www.w3.org/2000/svg\" height=\"24px\"viewBox=\"0 0 24 24\"\n",
              "     width=\"24px\">\n",
              "    <g>\n",
              "        <path d=\"M19 3H5c-1.1 0-2 .9-2 2v14c0 1.1.9 2 2 2h14c1.1 0 2-.9 2-2V5c0-1.1-.9-2-2-2zM9 17H7v-7h2v7zm4 0h-2V7h2v10zm4 0h-2v-4h2v4z\"/>\n",
              "    </g>\n",
              "</svg>\n",
              "  </button>\n",
              "\n",
              "<style>\n",
              "  .colab-df-quickchart {\n",
              "      --bg-color: #E8F0FE;\n",
              "      --fill-color: #1967D2;\n",
              "      --hover-bg-color: #E2EBFA;\n",
              "      --hover-fill-color: #174EA6;\n",
              "      --disabled-fill-color: #AAA;\n",
              "      --disabled-bg-color: #DDD;\n",
              "  }\n",
              "\n",
              "  [theme=dark] .colab-df-quickchart {\n",
              "      --bg-color: #3B4455;\n",
              "      --fill-color: #D2E3FC;\n",
              "      --hover-bg-color: #434B5C;\n",
              "      --hover-fill-color: #FFFFFF;\n",
              "      --disabled-bg-color: #3B4455;\n",
              "      --disabled-fill-color: #666;\n",
              "  }\n",
              "\n",
              "  .colab-df-quickchart {\n",
              "    background-color: var(--bg-color);\n",
              "    border: none;\n",
              "    border-radius: 50%;\n",
              "    cursor: pointer;\n",
              "    display: none;\n",
              "    fill: var(--fill-color);\n",
              "    height: 32px;\n",
              "    padding: 0;\n",
              "    width: 32px;\n",
              "  }\n",
              "\n",
              "  .colab-df-quickchart:hover {\n",
              "    background-color: var(--hover-bg-color);\n",
              "    box-shadow: 0 1px 2px rgba(60, 64, 67, 0.3), 0 1px 3px 1px rgba(60, 64, 67, 0.15);\n",
              "    fill: var(--button-hover-fill-color);\n",
              "  }\n",
              "\n",
              "  .colab-df-quickchart-complete:disabled,\n",
              "  .colab-df-quickchart-complete:disabled:hover {\n",
              "    background-color: var(--disabled-bg-color);\n",
              "    fill: var(--disabled-fill-color);\n",
              "    box-shadow: none;\n",
              "  }\n",
              "\n",
              "  .colab-df-spinner {\n",
              "    border: 2px solid var(--fill-color);\n",
              "    border-color: transparent;\n",
              "    border-bottom-color: var(--fill-color);\n",
              "    animation:\n",
              "      spin 1s steps(1) infinite;\n",
              "  }\n",
              "\n",
              "  @keyframes spin {\n",
              "    0% {\n",
              "      border-color: transparent;\n",
              "      border-bottom-color: var(--fill-color);\n",
              "      border-left-color: var(--fill-color);\n",
              "    }\n",
              "    20% {\n",
              "      border-color: transparent;\n",
              "      border-left-color: var(--fill-color);\n",
              "      border-top-color: var(--fill-color);\n",
              "    }\n",
              "    30% {\n",
              "      border-color: transparent;\n",
              "      border-left-color: var(--fill-color);\n",
              "      border-top-color: var(--fill-color);\n",
              "      border-right-color: var(--fill-color);\n",
              "    }\n",
              "    40% {\n",
              "      border-color: transparent;\n",
              "      border-right-color: var(--fill-color);\n",
              "      border-top-color: var(--fill-color);\n",
              "    }\n",
              "    60% {\n",
              "      border-color: transparent;\n",
              "      border-right-color: var(--fill-color);\n",
              "    }\n",
              "    80% {\n",
              "      border-color: transparent;\n",
              "      border-right-color: var(--fill-color);\n",
              "      border-bottom-color: var(--fill-color);\n",
              "    }\n",
              "    90% {\n",
              "      border-color: transparent;\n",
              "      border-bottom-color: var(--fill-color);\n",
              "    }\n",
              "  }\n",
              "</style>\n",
              "\n",
              "  <script>\n",
              "    async function quickchart(key) {\n",
              "      const quickchartButtonEl =\n",
              "        document.querySelector('#' + key + ' button');\n",
              "      quickchartButtonEl.disabled = true;  // To prevent multiple clicks.\n",
              "      quickchartButtonEl.classList.add('colab-df-spinner');\n",
              "      try {\n",
              "        const charts = await google.colab.kernel.invokeFunction(\n",
              "            'suggestCharts', [key], {});\n",
              "      } catch (error) {\n",
              "        console.error('Error during call to suggestCharts:', error);\n",
              "      }\n",
              "      quickchartButtonEl.classList.remove('colab-df-spinner');\n",
              "      quickchartButtonEl.classList.add('colab-df-quickchart-complete');\n",
              "    }\n",
              "    (() => {\n",
              "      let quickchartButtonEl =\n",
              "        document.querySelector('#df-fea96197-b0cd-429f-81db-a89667beaa9d button');\n",
              "      quickchartButtonEl.style.display =\n",
              "        google.colab.kernel.accessAllowed ? 'block' : 'none';\n",
              "    })();\n",
              "  </script>\n",
              "</div>\n",
              "\n",
              "  <div id=\"id_b2364771-9f9d-439e-b9cd-84c472306d7e\">\n",
              "    <style>\n",
              "      .colab-df-generate {\n",
              "        background-color: #E8F0FE;\n",
              "        border: none;\n",
              "        border-radius: 50%;\n",
              "        cursor: pointer;\n",
              "        display: none;\n",
              "        fill: #1967D2;\n",
              "        height: 32px;\n",
              "        padding: 0 0 0 0;\n",
              "        width: 32px;\n",
              "      }\n",
              "\n",
              "      .colab-df-generate:hover {\n",
              "        background-color: #E2EBFA;\n",
              "        box-shadow: 0px 1px 2px rgba(60, 64, 67, 0.3), 0px 1px 3px 1px rgba(60, 64, 67, 0.15);\n",
              "        fill: #174EA6;\n",
              "      }\n",
              "\n",
              "      [theme=dark] .colab-df-generate {\n",
              "        background-color: #3B4455;\n",
              "        fill: #D2E3FC;\n",
              "      }\n",
              "\n",
              "      [theme=dark] .colab-df-generate:hover {\n",
              "        background-color: #434B5C;\n",
              "        box-shadow: 0px 1px 3px 1px rgba(0, 0, 0, 0.15);\n",
              "        filter: drop-shadow(0px 1px 2px rgba(0, 0, 0, 0.3));\n",
              "        fill: #FFFFFF;\n",
              "      }\n",
              "    </style>\n",
              "    <button class=\"colab-df-generate\" onclick=\"generateWithVariable('df')\"\n",
              "            title=\"Generate code using this dataframe.\"\n",
              "            style=\"display:none;\">\n",
              "\n",
              "  <svg xmlns=\"http://www.w3.org/2000/svg\" height=\"24px\"viewBox=\"0 0 24 24\"\n",
              "       width=\"24px\">\n",
              "    <path d=\"M7,19H8.4L18.45,9,17,7.55,7,17.6ZM5,21V16.75L18.45,3.32a2,2,0,0,1,2.83,0l1.4,1.43a1.91,1.91,0,0,1,.58,1.4,1.91,1.91,0,0,1-.58,1.4L9.25,21ZM18.45,9,17,7.55Zm-12,3A5.31,5.31,0,0,0,4.9,8.1,5.31,5.31,0,0,0,1,6.5,5.31,5.31,0,0,0,4.9,4.9,5.31,5.31,0,0,0,6.5,1,5.31,5.31,0,0,0,8.1,4.9,5.31,5.31,0,0,0,12,6.5,5.46,5.46,0,0,0,6.5,12Z\"/>\n",
              "  </svg>\n",
              "    </button>\n",
              "    <script>\n",
              "      (() => {\n",
              "      const buttonEl =\n",
              "        document.querySelector('#id_b2364771-9f9d-439e-b9cd-84c472306d7e button.colab-df-generate');\n",
              "      buttonEl.style.display =\n",
              "        google.colab.kernel.accessAllowed ? 'block' : 'none';\n",
              "\n",
              "      buttonEl.onclick = () => {\n",
              "        google.colab.notebook.generateWithVariable('df');\n",
              "      }\n",
              "      })();\n",
              "    </script>\n",
              "  </div>\n",
              "\n",
              "    </div>\n",
              "  </div>\n"
            ],
            "application/vnd.google.colaboratory.intrinsic+json": {
              "type": "dataframe",
              "variable_name": "df",
              "summary": "{\n  \"name\": \"df\",\n  \"rows\": 600,\n  \"fields\": [\n    {\n      \"column\": \"Name\",\n      \"properties\": {\n        \"dtype\": \"string\",\n        \"num_unique_values\": 390,\n        \"samples\": [\n          \"A Man Called Ove: A Novel\",\n          \"Cravings: Recipes for All the Food You Want to Eat: A Cookbook\",\n          \"Born to Run\"\n        ],\n        \"semantic_type\": \"\",\n        \"description\": \"\"\n      }\n    },\n    {\n      \"column\": \"Author\",\n      \"properties\": {\n        \"dtype\": \"category\",\n        \"num_unique_values\": 275,\n        \"samples\": [\n          \"Bruce Springsteen\",\n          \"American Psychological Association\",\n          \"Daniel Lipkowitz\"\n        ],\n        \"semantic_type\": \"\",\n        \"description\": \"\"\n      }\n    },\n    {\n      \"column\": \"User Rating\",\n      \"properties\": {\n        \"dtype\": \"number\",\n        \"std\": 0.22532385645859027,\n        \"min\": 3.3,\n        \"max\": 4.9,\n        \"num_unique_values\": 14,\n        \"samples\": [\n          3.8,\n          4.0,\n          4.7\n        ],\n        \"semantic_type\": \"\",\n        \"description\": \"\"\n      }\n    },\n    {\n      \"column\": \"Reviews\",\n      \"properties\": {\n        \"dtype\": \"number\",\n        \"std\": 14652,\n        \"min\": 37,\n        \"max\": 120727,\n        \"num_unique_values\": 395,\n        \"samples\": [\n          5505,\n          24356,\n          10559\n        ],\n        \"semantic_type\": \"\",\n        \"description\": \"\"\n      }\n    },\n    {\n      \"column\": \"Price\",\n      \"properties\": {\n        \"dtype\": \"number\",\n        \"std\": 10,\n        \"min\": 0,\n        \"max\": 105,\n        \"num_unique_values\": 40,\n        \"samples\": [\n          0,\n          24,\n          9\n        ],\n        \"semantic_type\": \"\",\n        \"description\": \"\"\n      }\n    },\n    {\n      \"column\": \"Year\",\n      \"properties\": {\n        \"dtype\": \"number\",\n        \"std\": 3,\n        \"min\": 2009,\n        \"max\": 2020,\n        \"num_unique_values\": 12,\n        \"samples\": [\n          2012,\n          2013,\n          2016\n        ],\n        \"semantic_type\": \"\",\n        \"description\": \"\"\n      }\n    },\n    {\n      \"column\": \"Genre\",\n      \"properties\": {\n        \"dtype\": \"category\",\n        \"num_unique_values\": 2,\n        \"samples\": [\n          \"Fiction\",\n          \"Non Fiction\"\n        ],\n        \"semantic_type\": \"\",\n        \"description\": \"\"\n      }\n    }\n  ]\n}"
            }
          },
          "metadata": {},
          "execution_count": 3
        }
      ]
    },
    {
      "cell_type": "code",
      "source": [
        "df.info()"
      ],
      "metadata": {
        "colab": {
          "base_uri": "https://localhost:8080/"
        },
        "id": "obdBOcyxLHfD",
        "outputId": "1c65b32f-76eb-41ee-9c3c-8ee9d4bdbe40"
      },
      "execution_count": 4,
      "outputs": [
        {
          "output_type": "stream",
          "name": "stdout",
          "text": [
            "<class 'pandas.core.frame.DataFrame'>\n",
            "RangeIndex: 600 entries, 0 to 599\n",
            "Data columns (total 7 columns):\n",
            " #   Column       Non-Null Count  Dtype  \n",
            "---  ------       --------------  -----  \n",
            " 0   Name         600 non-null    object \n",
            " 1   Author       600 non-null    object \n",
            " 2   User Rating  600 non-null    float64\n",
            " 3   Reviews      600 non-null    int64  \n",
            " 4   Price        600 non-null    int64  \n",
            " 5   Year         600 non-null    int64  \n",
            " 6   Genre        600 non-null    object \n",
            "dtypes: float64(1), int64(3), object(3)\n",
            "memory usage: 32.9+ KB\n"
          ]
        }
      ]
    },
    {
      "cell_type": "code",
      "source": [
        "# Check for missing values\n",
        "print(df.isnull().sum())\n"
      ],
      "metadata": {
        "colab": {
          "base_uri": "https://localhost:8080/"
        },
        "id": "PK3Q99mqIQGO",
        "outputId": "1c262e90-7ae2-4149-b52f-023433cfaf91"
      },
      "execution_count": 5,
      "outputs": [
        {
          "output_type": "stream",
          "name": "stdout",
          "text": [
            "Name           0\n",
            "Author         0\n",
            "User Rating    0\n",
            "Reviews        0\n",
            "Price          0\n",
            "Year           0\n",
            "Genre          0\n",
            "dtype: int64\n"
          ]
        }
      ]
    },
    {
      "cell_type": "code",
      "source": [
        "print(df.duplicated().sum())"
      ],
      "metadata": {
        "colab": {
          "base_uri": "https://localhost:8080/"
        },
        "id": "QRovXspvIR-2",
        "outputId": "fcaf7cd1-1a88-4dc3-d1a5-c5966c24f1ea"
      },
      "execution_count": 6,
      "outputs": [
        {
          "output_type": "stream",
          "name": "stdout",
          "text": [
            "0\n"
          ]
        }
      ]
    },
    {
      "cell_type": "code",
      "source": [
        "# Calculate mean, median, and mode\n",
        "mean_rating = df['User Rating'].mean()\n",
        "median_rating = df['User Rating'].median()\n",
        "mode_rating = df['User Rating'].mode()[0]\n",
        "\n",
        "print(f\"Mean User Rating: {mean_rating}\")\n",
        "print(f\"Median User Rating: {median_rating}\")\n",
        "print(f\"Mode User Rating: {mode_rating}\")\n"
      ],
      "metadata": {
        "colab": {
          "base_uri": "https://localhost:8080/"
        },
        "id": "oZz75s4L8J3c",
        "outputId": "e5d55940-99c8-4c59-f088-0730efc1a690"
      },
      "execution_count": 7,
      "outputs": [
        {
          "output_type": "stream",
          "name": "stdout",
          "text": [
            "Mean User Rating: 4.627333333333333\n",
            "Median User Rating: 4.7\n",
            "Mode User Rating: 4.8\n"
          ]
        }
      ]
    },
    {
      "cell_type": "code",
      "source": [
        "# Calculate mean, median, and mode\n",
        "mean_reviews = df['Reviews'].mean()\n",
        "median_reviews = df['Reviews'].median()\n",
        "mode_reviews = df['Reviews'].mode()[0]\n",
        "\n",
        "print(f\"Mean Reviews: {mean_reviews}\")\n",
        "print(f\"Median Reviews: {median_reviews}\")\n",
        "print(f\"Mode Reviews: {mode_reviews}\")\n",
        "\n"
      ],
      "metadata": {
        "colab": {
          "base_uri": "https://localhost:8080/"
        },
        "id": "-WbQwMzCIbhF",
        "outputId": "02c326d3-98d6-4f41-cb8a-df50379eddae"
      },
      "execution_count": 8,
      "outputs": [
        {
          "output_type": "stream",
          "name": "stdout",
          "text": [
            "Mean Reviews: 13941.73\n",
            "Median Reviews: 9059.5\n",
            "Mode Reviews: 8580\n"
          ]
        }
      ]
    },
    {
      "cell_type": "code",
      "source": [
        "# Calculate mean, median, and mode\n",
        "mean_price = df['Price'].mean()\n",
        "median_price = df['Price'].median()\n",
        "mode_price = df['Price'].mode()[0]\n",
        "\n",
        "\n",
        "print(f\"Mean Price: ${mean_price}\")\n",
        "print(f\"Median Price: ${median_price}\")\n",
        "print(f\"Mode Price: {mode_price}\")\n"
      ],
      "metadata": {
        "colab": {
          "base_uri": "https://localhost:8080/"
        },
        "id": "DRWOtHc8IfJ_",
        "outputId": "bd97428c-5d95-4aa4-bddc-b8fb0d91fac6"
      },
      "execution_count": 9,
      "outputs": [
        {
          "output_type": "stream",
          "name": "stdout",
          "text": [
            "Mean Price: $12.92\n",
            "Median Price: $11.0\n",
            "Mode Price: 8\n"
          ]
        }
      ]
    },
    {
      "cell_type": "code",
      "source": [
        "\n",
        "mode_year = df['Year'].mode()[0]\n",
        "print(f\"Mode Year: {mode_year}\")\n"
      ],
      "metadata": {
        "colab": {
          "base_uri": "https://localhost:8080/"
        },
        "id": "lVP23-MrIicW",
        "outputId": "6fed86f2-e6f4-498f-9974-4f668bbe94e5"
      },
      "execution_count": 10,
      "outputs": [
        {
          "output_type": "stream",
          "name": "stdout",
          "text": [
            "Mode Year: 2009\n"
          ]
        }
      ]
    },
    {
      "cell_type": "code",
      "source": [
        "# Display the frequency of each genre\n",
        "genre_counts = df['Genre'].value_counts()\n",
        "print(genre_counts)\n",
        "\n",
        "# Calculate the mode of the Genre column\n",
        "mode_genre = df['Genre'].mode()[0]\n",
        "print(f\"Most Common Genre: {mode_genre}\")\n"
      ],
      "metadata": {
        "colab": {
          "base_uri": "https://localhost:8080/"
        },
        "id": "jiPV-T0ZIkru",
        "outputId": "fabf291a-d33b-4acc-efb6-ba2c44740738"
      },
      "execution_count": 11,
      "outputs": [
        {
          "output_type": "stream",
          "name": "stdout",
          "text": [
            "Genre\n",
            "Non Fiction    337\n",
            "Fiction        263\n",
            "Name: count, dtype: int64\n",
            "Most Common Genre: Non Fiction\n"
          ]
        }
      ]
    },
    {
      "cell_type": "code",
      "source": [
        "\n",
        "# Plotting the distribution\n",
        "plt.figure(figsize=(10, 5))\n",
        "\n",
        "# Stylish histogram with smooth KDE curve\n",
        "sns.histplot(df['User Rating'], bins=20, kde=True, color=\"royalblue\", edgecolor=\"black\", alpha=0.7)\n",
        "\n",
        "# Titles and labels\n",
        "plt.title(\"⭐ Distribution of User Ratings\", fontsize=14, fontweight=\"bold\")\n",
        "plt.xlabel(\"User Rating\", fontsize=12)\n",
        "plt.ylabel(\"Frequency\", fontsize=12)\n",
        "\n",
        "# Custom grid for better readability\n",
        "plt.grid(axis=\"y\", linestyle=\"--\", alpha=0.5)\n",
        "\n",
        "# Show plot\n",
        "plt.show()\n",
        "\n"
      ],
      "metadata": {
        "colab": {
          "base_uri": "https://localhost:8080/",
          "height": 529
        },
        "id": "0tOifYq9InIm",
        "outputId": "b65fb387-aac2-4b59-c951-d4792fefd99b"
      },
      "execution_count": 12,
      "outputs": [
        {
          "output_type": "stream",
          "name": "stderr",
          "text": [
            "/usr/local/lib/python3.11/dist-packages/IPython/core/pylabtools.py:151: UserWarning: Glyph 11088 (\\N{WHITE MEDIUM STAR}) missing from font(s) DejaVu Sans.\n",
            "  fig.canvas.print_figure(bytes_io, **kw)\n"
          ]
        },
        {
          "output_type": "display_data",
          "data": {
            "text/plain": [
              "<Figure size 1000x500 with 1 Axes>"
            ],
            "image/png": "[encoded data removed]"
          },
          "metadata": {}
        }
      ]
    },
    {
      "cell_type": "code",
      "source": [
        "genre_reviews = df.groupby('Genre')['Reviews'].sum().sort_values()\n",
        "\n",
        "# Set figure size\n",
        "plt.figure(figsize=(10, 5))\n",
        "\n",
        "# Simple bar plot\n",
        "sns.barplot(x=genre_reviews.values, y=genre_reviews.index,hue=genre_reviews.index, palette=\"twilight\",legend = False)\n",
        "\n",
        "# Titles and labels\n",
        "plt.title('Total Reviews per Genre', fontsize=14, fontweight='bold')\n",
        "plt.xlabel('Total Reviews', fontsize=12)\n",
        "plt.ylabel('Genre', fontsize=12)\n",
        "\n",
        "# Show plot\n",
        "plt.show()"
      ],
      "metadata": {
        "colab": {
          "base_uri": "https://localhost:8080/",
          "height": 492
        },
        "id": "kAmsX6VpIpM-",
        "outputId": "efda787b-bc94-4bef-a142-f61ba280e732"
      },
      "execution_count": 13,
      "outputs": [
        {
          "output_type": "display_data",
          "data": {
            "text/plain": [
              "<Figure size 1000x500 with 1 Axes>"
            ],
            "image/png": "[encoded data removed]"
          },
          "metadata": {}
        }
      ]
    },
    {
      "cell_type": "code",
      "source": [
        "avg_price_per_year = df.groupby('Year')['Price'].mean()\n",
        "\n",
        "# Create the area plot\n",
        "plt.figure(figsize=(10, 5))\n",
        "plt.fill_between(avg_price_per_year.index, avg_price_per_year.values, color=\"skyblue\", alpha=0.5)\n",
        "plt.plot(avg_price_per_year.index, avg_price_per_year.values, marker='o', color=\"blue\")\n",
        "\n",
        "# Add labels and title\n",
        "plt.title(\"💰 Average Book Price Over the Years\", fontsize=14, fontweight='bold')\n",
        "plt.xlabel(\"Year\", fontsize=12)\n",
        "plt.ylabel(\"Average Price ($)\", fontsize=12)\n",
        "plt.grid(axis='y', linestyle=\"--\", alpha=0.5)\n",
        "\n",
        "# Show the plot\n",
        "plt.show()"
      ],
      "metadata": {
        "colab": {
          "base_uri": "https://localhost:8080/",
          "height": 529
        },
        "id": "TLfNjeCLIrp2",
        "outputId": "123ca477-983a-4120-bfb1-582212545857"
      },
      "execution_count": 14,
      "outputs": [
        {
          "output_type": "stream",
          "name": "stderr",
          "text": [
            "/usr/local/lib/python3.11/dist-packages/IPython/core/pylabtools.py:151: UserWarning: Glyph 128176 (\\N{MONEY BAG}) missing from font(s) DejaVu Sans.\n",
            "  fig.canvas.print_figure(bytes_io, **kw)\n"
          ]
        },
        {
          "output_type": "display_data",
          "data": {
            "text/plain": [
              "<Figure size 1000x500 with 1 Axes>"
            ],
            "image/png": "[encoded data removed]"
          },
          "metadata": {}
        }
      ]
    }
  ]
}